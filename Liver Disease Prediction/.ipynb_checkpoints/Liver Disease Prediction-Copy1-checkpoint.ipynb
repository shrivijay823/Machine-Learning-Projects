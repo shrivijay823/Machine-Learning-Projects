{
 "cells": [
  {
   "cell_type": "markdown",
   "id": "e813c9e1",
   "metadata": {},
   "source": [
    "## Liver Disease Prediction\n",
    "Create predictive models to predict the stage of liver Cirrhosis using 18 clinical features. Cirrhosis damages the liver from a variety of causes leading to scarring and liver failure.\n",
    "\n",
    "Hepatitis and chronic alcohol abuse are frequent causes of the disease. Liver damage caused by cirrhosis can't be undone, but further damage can be limited. Treatments focus on the underlying cause. In advanced cases, a liver transplant may be required. Predicting the stage of cirrhosis and beginning the treatment before it's too late can prevent the fatal consequences of the disease."
   ]
  },
  {
   "cell_type": "code",
   "execution_count": 22,
   "id": "34170bc0",
   "metadata": {},
   "outputs": [],
   "source": [
    "import pandas as pd\n",
    "pd.options.mode.chained_assignment = None \n",
    "import numpy as np"
   ]
  },
  {
   "cell_type": "code",
   "execution_count": 23,
   "id": "e7e40b8f",
   "metadata": {},
   "outputs": [],
   "source": [
    "df=pd.read_csv('train_dataset.csv')\n",
    "df_test=pd.read_csv('test_dataset.csv')"
   ]
  },
  {
   "cell_type": "code",
   "execution_count": 24,
   "id": "22eed2d2",
   "metadata": {
    "scrolled": true
   },
   "outputs": [
    {
     "data": {
      "text/html": [
       "<div>\n",
       "<style scoped>\n",
       "    .dataframe tbody tr th:only-of-type {\n",
       "        vertical-align: middle;\n",
       "    }\n",
       "\n",
       "    .dataframe tbody tr th {\n",
       "        vertical-align: top;\n",
       "    }\n",
       "\n",
       "    .dataframe thead th {\n",
       "        text-align: right;\n",
       "    }\n",
       "</style>\n",
       "<table border=\"1\" class=\"dataframe\">\n",
       "  <thead>\n",
       "    <tr style=\"text-align: right;\">\n",
       "      <th></th>\n",
       "      <th>ID</th>\n",
       "      <th>N_Days</th>\n",
       "      <th>Status</th>\n",
       "      <th>Drug</th>\n",
       "      <th>Age</th>\n",
       "      <th>Sex</th>\n",
       "      <th>Ascites</th>\n",
       "      <th>Hepatomegaly</th>\n",
       "      <th>Spiders</th>\n",
       "      <th>Edema</th>\n",
       "      <th>Bilirubin</th>\n",
       "      <th>Cholesterol</th>\n",
       "      <th>Albumin</th>\n",
       "      <th>Copper</th>\n",
       "      <th>Alk_Phos</th>\n",
       "      <th>SGOT</th>\n",
       "      <th>Tryglicerides</th>\n",
       "      <th>Platelets</th>\n",
       "      <th>Prothrombin</th>\n",
       "      <th>Stage</th>\n",
       "    </tr>\n",
       "  </thead>\n",
       "  <tbody>\n",
       "    <tr>\n",
       "      <th>0</th>\n",
       "      <td>7135</td>\n",
       "      <td>1654</td>\n",
       "      <td>CL</td>\n",
       "      <td>D-penicillamine</td>\n",
       "      <td>19581</td>\n",
       "      <td>F</td>\n",
       "      <td>N</td>\n",
       "      <td>N</td>\n",
       "      <td>Y</td>\n",
       "      <td>N</td>\n",
       "      <td>0.3</td>\n",
       "      <td>279.0</td>\n",
       "      <td>2.96</td>\n",
       "      <td>84.0</td>\n",
       "      <td>1500.8</td>\n",
       "      <td>99.43</td>\n",
       "      <td>109.0</td>\n",
       "      <td>293.0</td>\n",
       "      <td>10.2</td>\n",
       "      <td>4.0</td>\n",
       "    </tr>\n",
       "    <tr>\n",
       "      <th>1</th>\n",
       "      <td>7326</td>\n",
       "      <td>41</td>\n",
       "      <td>C</td>\n",
       "      <td>D-penicillamine</td>\n",
       "      <td>22880</td>\n",
       "      <td>F</td>\n",
       "      <td>NaN</td>\n",
       "      <td>N</td>\n",
       "      <td>NaN</td>\n",
       "      <td>N</td>\n",
       "      <td>0.3</td>\n",
       "      <td>NaN</td>\n",
       "      <td>2.96</td>\n",
       "      <td>NaN</td>\n",
       "      <td>1835.4</td>\n",
       "      <td>26.35</td>\n",
       "      <td>131.0</td>\n",
       "      <td>308.0</td>\n",
       "      <td>10.8</td>\n",
       "      <td>1.0</td>\n",
       "    </tr>\n",
       "    <tr>\n",
       "      <th>2</th>\n",
       "      <td>7254</td>\n",
       "      <td>297</td>\n",
       "      <td>D</td>\n",
       "      <td>NaN</td>\n",
       "      <td>27957</td>\n",
       "      <td>F</td>\n",
       "      <td>N</td>\n",
       "      <td>N</td>\n",
       "      <td>NaN</td>\n",
       "      <td>N</td>\n",
       "      <td>0.3</td>\n",
       "      <td>328.0</td>\n",
       "      <td>2.64</td>\n",
       "      <td>4.0</td>\n",
       "      <td>NaN</td>\n",
       "      <td>NaN</td>\n",
       "      <td>116.0</td>\n",
       "      <td>194.0</td>\n",
       "      <td>10.3</td>\n",
       "      <td>3.0</td>\n",
       "    </tr>\n",
       "    <tr>\n",
       "      <th>3</th>\n",
       "      <td>3135</td>\n",
       "      <td>1872</td>\n",
       "      <td>C</td>\n",
       "      <td>D-penicillamine</td>\n",
       "      <td>21111</td>\n",
       "      <td>F</td>\n",
       "      <td>NaN</td>\n",
       "      <td>Y</td>\n",
       "      <td>Y</td>\n",
       "      <td>N</td>\n",
       "      <td>0.3</td>\n",
       "      <td>302.0</td>\n",
       "      <td>2.02</td>\n",
       "      <td>49.0</td>\n",
       "      <td>NaN</td>\n",
       "      <td>26.35</td>\n",
       "      <td>NaN</td>\n",
       "      <td>NaN</td>\n",
       "      <td>10.5</td>\n",
       "      <td>4.0</td>\n",
       "    </tr>\n",
       "    <tr>\n",
       "      <th>4</th>\n",
       "      <td>2483</td>\n",
       "      <td>939</td>\n",
       "      <td>CL</td>\n",
       "      <td>D-penicillamine</td>\n",
       "      <td>18061</td>\n",
       "      <td>F</td>\n",
       "      <td>NaN</td>\n",
       "      <td>NaN</td>\n",
       "      <td>NaN</td>\n",
       "      <td>N</td>\n",
       "      <td>0.5</td>\n",
       "      <td>344.0</td>\n",
       "      <td>3.11</td>\n",
       "      <td>91.0</td>\n",
       "      <td>NaN</td>\n",
       "      <td>104.56</td>\n",
       "      <td>NaN</td>\n",
       "      <td>306.0</td>\n",
       "      <td>11.4</td>\n",
       "      <td>2.0</td>\n",
       "    </tr>\n",
       "  </tbody>\n",
       "</table>\n",
       "</div>"
      ],
      "text/plain": [
       "     ID  N_Days Status             Drug    Age Sex Ascites Hepatomegaly  \\\n",
       "0  7135    1654     CL  D-penicillamine  19581   F       N            N   \n",
       "1  7326      41      C  D-penicillamine  22880   F     NaN            N   \n",
       "2  7254     297      D              NaN  27957   F       N            N   \n",
       "3  3135    1872      C  D-penicillamine  21111   F     NaN            Y   \n",
       "4  2483     939     CL  D-penicillamine  18061   F     NaN          NaN   \n",
       "\n",
       "  Spiders Edema  Bilirubin  Cholesterol  Albumin  Copper  Alk_Phos    SGOT  \\\n",
       "0       Y     N        0.3        279.0     2.96    84.0    1500.8   99.43   \n",
       "1     NaN     N        0.3          NaN     2.96     NaN    1835.4   26.35   \n",
       "2     NaN     N        0.3        328.0     2.64     4.0       NaN     NaN   \n",
       "3       Y     N        0.3        302.0     2.02    49.0       NaN   26.35   \n",
       "4     NaN     N        0.5        344.0     3.11    91.0       NaN  104.56   \n",
       "\n",
       "   Tryglicerides  Platelets  Prothrombin  Stage  \n",
       "0          109.0      293.0         10.2    4.0  \n",
       "1          131.0      308.0         10.8    1.0  \n",
       "2          116.0      194.0         10.3    3.0  \n",
       "3            NaN        NaN         10.5    4.0  \n",
       "4            NaN      306.0         11.4    2.0  "
      ]
     },
     "execution_count": 24,
     "metadata": {},
     "output_type": "execute_result"
    }
   ],
   "source": [
    "df.head(5)"
   ]
  },
  {
   "cell_type": "code",
   "execution_count": 25,
   "id": "da22f405",
   "metadata": {},
   "outputs": [
    {
     "data": {
      "text/html": [
       "<div>\n",
       "<style scoped>\n",
       "    .dataframe tbody tr th:only-of-type {\n",
       "        vertical-align: middle;\n",
       "    }\n",
       "\n",
       "    .dataframe tbody tr th {\n",
       "        vertical-align: top;\n",
       "    }\n",
       "\n",
       "    .dataframe thead th {\n",
       "        text-align: right;\n",
       "    }\n",
       "</style>\n",
       "<table border=\"1\" class=\"dataframe\">\n",
       "  <thead>\n",
       "    <tr style=\"text-align: right;\">\n",
       "      <th></th>\n",
       "      <th>ID</th>\n",
       "      <th>N_Days</th>\n",
       "      <th>Status</th>\n",
       "      <th>Drug</th>\n",
       "      <th>Age</th>\n",
       "      <th>Sex</th>\n",
       "      <th>Ascites</th>\n",
       "      <th>Hepatomegaly</th>\n",
       "      <th>Spiders</th>\n",
       "      <th>Edema</th>\n",
       "      <th>Bilirubin</th>\n",
       "      <th>Cholesterol</th>\n",
       "      <th>Albumin</th>\n",
       "      <th>Copper</th>\n",
       "      <th>Alk_Phos</th>\n",
       "      <th>SGOT</th>\n",
       "      <th>Tryglicerides</th>\n",
       "      <th>Platelets</th>\n",
       "      <th>Prothrombin</th>\n",
       "    </tr>\n",
       "  </thead>\n",
       "  <tbody>\n",
       "    <tr>\n",
       "      <th>0</th>\n",
       "      <td>3870</td>\n",
       "      <td>41</td>\n",
       "      <td>C</td>\n",
       "      <td>Placebo</td>\n",
       "      <td>22553</td>\n",
       "      <td>F</td>\n",
       "      <td>N</td>\n",
       "      <td>NaN</td>\n",
       "      <td>N</td>\n",
       "      <td>N</td>\n",
       "      <td>1.4</td>\n",
       "      <td>247.0</td>\n",
       "      <td>3.62</td>\n",
       "      <td>NaN</td>\n",
       "      <td>NaN</td>\n",
       "      <td>108.65</td>\n",
       "      <td>NaN</td>\n",
       "      <td>169.0</td>\n",
       "      <td>11.6</td>\n",
       "    </tr>\n",
       "    <tr>\n",
       "      <th>1</th>\n",
       "      <td>3462</td>\n",
       "      <td>1811</td>\n",
       "      <td>C</td>\n",
       "      <td>D-penicillamine</td>\n",
       "      <td>16223</td>\n",
       "      <td>F</td>\n",
       "      <td>N</td>\n",
       "      <td>Y</td>\n",
       "      <td>N</td>\n",
       "      <td>N</td>\n",
       "      <td>0.3</td>\n",
       "      <td>311.0</td>\n",
       "      <td>2.80</td>\n",
       "      <td>92.0</td>\n",
       "      <td>1748.1</td>\n",
       "      <td>NaN</td>\n",
       "      <td>129.0</td>\n",
       "      <td>321.0</td>\n",
       "      <td>11.5</td>\n",
       "    </tr>\n",
       "    <tr>\n",
       "      <th>2</th>\n",
       "      <td>1632</td>\n",
       "      <td>954</td>\n",
       "      <td>C</td>\n",
       "      <td>D-penicillamine</td>\n",
       "      <td>27100</td>\n",
       "      <td>F</td>\n",
       "      <td>N</td>\n",
       "      <td>N</td>\n",
       "      <td>N</td>\n",
       "      <td>N</td>\n",
       "      <td>0.4</td>\n",
       "      <td>NaN</td>\n",
       "      <td>3.56</td>\n",
       "      <td>NaN</td>\n",
       "      <td>NaN</td>\n",
       "      <td>43.52</td>\n",
       "      <td>NaN</td>\n",
       "      <td>296.0</td>\n",
       "      <td>10.3</td>\n",
       "    </tr>\n",
       "    <tr>\n",
       "      <th>3</th>\n",
       "      <td>722</td>\n",
       "      <td>1969</td>\n",
       "      <td>D</td>\n",
       "      <td>Placebo</td>\n",
       "      <td>17039</td>\n",
       "      <td>F</td>\n",
       "      <td>N</td>\n",
       "      <td>Y</td>\n",
       "      <td>N</td>\n",
       "      <td>N</td>\n",
       "      <td>1.2</td>\n",
       "      <td>NaN</td>\n",
       "      <td>3.16</td>\n",
       "      <td>NaN</td>\n",
       "      <td>617.1</td>\n",
       "      <td>113.76</td>\n",
       "      <td>NaN</td>\n",
       "      <td>125.0</td>\n",
       "      <td>10.9</td>\n",
       "    </tr>\n",
       "    <tr>\n",
       "      <th>4</th>\n",
       "      <td>1000</td>\n",
       "      <td>2721</td>\n",
       "      <td>D</td>\n",
       "      <td>D-penicillamine</td>\n",
       "      <td>17738</td>\n",
       "      <td>F</td>\n",
       "      <td>NaN</td>\n",
       "      <td>NaN</td>\n",
       "      <td>NaN</td>\n",
       "      <td>N</td>\n",
       "      <td>3.2</td>\n",
       "      <td>NaN</td>\n",
       "      <td>2.36</td>\n",
       "      <td>89.0</td>\n",
       "      <td>1782.4</td>\n",
       "      <td>NaN</td>\n",
       "      <td>129.0</td>\n",
       "      <td>138.0</td>\n",
       "      <td>10.6</td>\n",
       "    </tr>\n",
       "  </tbody>\n",
       "</table>\n",
       "</div>"
      ],
      "text/plain": [
       "     ID  N_Days Status             Drug    Age Sex Ascites Hepatomegaly  \\\n",
       "0  3870      41      C          Placebo  22553   F       N          NaN   \n",
       "1  3462    1811      C  D-penicillamine  16223   F       N            Y   \n",
       "2  1632     954      C  D-penicillamine  27100   F       N            N   \n",
       "3   722    1969      D          Placebo  17039   F       N            Y   \n",
       "4  1000    2721      D  D-penicillamine  17738   F     NaN          NaN   \n",
       "\n",
       "  Spiders Edema  Bilirubin  Cholesterol  Albumin  Copper  Alk_Phos    SGOT  \\\n",
       "0       N     N        1.4        247.0     3.62     NaN       NaN  108.65   \n",
       "1       N     N        0.3        311.0     2.80    92.0    1748.1     NaN   \n",
       "2       N     N        0.4          NaN     3.56     NaN       NaN   43.52   \n",
       "3       N     N        1.2          NaN     3.16     NaN     617.1  113.76   \n",
       "4     NaN     N        3.2          NaN     2.36    89.0    1782.4     NaN   \n",
       "\n",
       "   Tryglicerides  Platelets  Prothrombin  \n",
       "0            NaN      169.0         11.6  \n",
       "1          129.0      321.0         11.5  \n",
       "2            NaN      296.0         10.3  \n",
       "3            NaN      125.0         10.9  \n",
       "4          129.0      138.0         10.6  "
      ]
     },
     "execution_count": 25,
     "metadata": {},
     "output_type": "execute_result"
    }
   ],
   "source": [
    "df_test.head()"
   ]
  },
  {
   "cell_type": "code",
   "execution_count": 26,
   "id": "8a33e19e",
   "metadata": {},
   "outputs": [
    {
     "data": {
      "text/plain": [
       "dtype('int64')"
      ]
     },
     "execution_count": 26,
     "metadata": {},
     "output_type": "execute_result"
    }
   ],
   "source": [
    "df['Age'].dtype"
   ]
  },
  {
   "cell_type": "code",
   "execution_count": 27,
   "id": "dc5e6851",
   "metadata": {},
   "outputs": [],
   "source": [
    "df.drop(columns=['ID'],inplace=True)\n",
    "df_test.drop(columns=['ID'],inplace=True)"
   ]
  },
  {
   "cell_type": "code",
   "execution_count": 28,
   "id": "d4735a47",
   "metadata": {
    "scrolled": false
   },
   "outputs": [
    {
     "name": "stdout",
     "output_type": "stream",
     "text": [
      "<class 'pandas.core.frame.DataFrame'>\n",
      "RangeIndex: 6800 entries, 0 to 6799\n",
      "Data columns (total 19 columns):\n",
      " #   Column         Non-Null Count  Dtype  \n",
      "---  ------         --------------  -----  \n",
      " 0   N_Days         6800 non-null   int64  \n",
      " 1   Status         6800 non-null   object \n",
      " 2   Drug           4775 non-null   object \n",
      " 3   Age            6800 non-null   int64  \n",
      " 4   Sex            6800 non-null   object \n",
      " 5   Ascites        4554 non-null   object \n",
      " 6   Hepatomegaly   4373 non-null   object \n",
      " 7   Spiders        4210 non-null   object \n",
      " 8   Edema          6800 non-null   object \n",
      " 9   Bilirubin      6800 non-null   float64\n",
      " 10  Cholesterol    3699 non-null   float64\n",
      " 11  Albumin        6800 non-null   float64\n",
      " 12  Copper         4644 non-null   float64\n",
      " 13  Alk_Phos       4302 non-null   float64\n",
      " 14  SGOT           4698 non-null   float64\n",
      " 15  Tryglicerides  3988 non-null   float64\n",
      " 16  Platelets      6462 non-null   float64\n",
      " 17  Prothrombin    6645 non-null   float64\n",
      " 18  Stage          6800 non-null   float64\n",
      "dtypes: float64(10), int64(2), object(7)\n",
      "memory usage: 1009.5+ KB\n"
     ]
    }
   ],
   "source": [
    "df.info()"
   ]
  },
  {
   "cell_type": "code",
   "execution_count": 29,
   "id": "9697c38b",
   "metadata": {
    "scrolled": true
   },
   "outputs": [
    {
     "name": "stdout",
     "output_type": "stream",
     "text": [
      "Object dtype columns:\n",
      " ['Status', 'Drug', 'Sex', 'Ascites', 'Hepatomegaly', 'Spiders', 'Edema']\n",
      "\n",
      "Object dtype columns containing 'null' values:\n",
      " ['Drug', 'Ascites', 'Hepatomegaly', 'Spiders']\n",
      "\n",
      "Non-Object dtype columns containing 'null' values:\n",
      " ['Cholesterol', 'Copper', 'Alk_Phos', 'SGOT', 'Tryglicerides', 'Platelets', 'Prothrombin']\n"
     ]
    }
   ],
   "source": [
    "obj_col=df.columns[df.dtypes=='object']\n",
    "nonobj_col=df.columns[df.dtypes!='object']\n",
    "null_col=list(df.columns[df.isnull().any()])\n",
    "null_object_columns=list(df.columns[(df.dtypes=='object')&(df.isnull().any())])\n",
    "null_nonobject_columns=list(df.columns[(df.dtypes!='object')&(df.isnull().any())])\n",
    "print(\"Object dtype columns:\\n\",list(obj_col))\n",
    "print(\"\\nObject dtype columns containing 'null' values:\\n\",null_object_columns)\n",
    "print(\"\\nNon-Object dtype columns containing 'null' values:\\n\",null_nonobject_columns)"
   ]
  },
  {
   "cell_type": "code",
   "execution_count": 30,
   "id": "54d8f4fe",
   "metadata": {},
   "outputs": [
    {
     "data": {
      "text/plain": [
       "C     3643\n",
       "D     2619\n",
       "CL     538\n",
       "Name: Status, dtype: int64"
      ]
     },
     "execution_count": 30,
     "metadata": {},
     "output_type": "execute_result"
    }
   ],
   "source": [
    "df['Status'].value_counts()"
   ]
  },
  {
   "cell_type": "code",
   "execution_count": 31,
   "id": "d18029cf",
   "metadata": {},
   "outputs": [],
   "source": [
    "#encode categorical variables\n",
    "df_mapped=df.copy()\n",
    "df_mapped['Age']=df_mapped['Age'].map(lambda x:int(round(x/365)))\n",
    "df_mapped['Status']=df_mapped['Status'].map({'CL':0,'C':1,'D':2})\n",
    "df_mapped['Drug']=df_mapped['Drug'].map({'D-penicillamine':0,'Placebo':1})\n",
    "df_mapped['Sex']=df_mapped['Sex'].map({'M':1,'F':0})\n",
    "df_mapped['Ascites']=df_mapped['Ascites'].map({'N':0,'Y':1})\n",
    "df_mapped['Hepatomegaly']=df_mapped['Hepatomegaly'].map({'N':0,'Y':1})\n",
    "df_mapped['Spiders']=df_mapped['Spiders'].map({'N':0,'Y':1})\n",
    "df_mapped['Edema']=df_mapped['Edema'].map({'N':0,'S':1,'Y':2})"
   ]
  },
  {
   "cell_type": "code",
   "execution_count": 32,
   "id": "d65cef7c",
   "metadata": {},
   "outputs": [],
   "source": [
    "df_test_mapped=df_test.copy()\n",
    "df_test_mapped['Age']=df_test_mapped['Age'].map(lambda x:int(round(x/365)))\n",
    "df_test_mapped['Status']=df_test_mapped['Status'].map({'CL':0,'C':1,'D':2})\n",
    "df_test_mapped['Drug']=df_test_mapped['Drug'].map({'D-penicillamine':0,'Placebo':1})\n",
    "df_test_mapped['Sex']=df_test_mapped['Sex'].map({'M':1,'F':0})\n",
    "df_test_mapped['Ascites']=df_test_mapped['Ascites'].map({'N':0,'Y':1})\n",
    "df_test_mapped['Hepatomegaly']=df_test_mapped['Hepatomegaly'].map({'N':0,'Y':1})\n",
    "df_test_mapped['Spiders']=df_test_mapped['Spiders'].map({'N':0,'Y':1})\n",
    "df_test_mapped['Edema']=df_test_mapped['Edema'].map({'N':0,'S':1,'Y':2})"
   ]
  },
  {
   "cell_type": "code",
   "execution_count": 33,
   "id": "d638b72b",
   "metadata": {},
   "outputs": [],
   "source": [
    "null_df=df_mapped[df_mapped.isnull().any(axis=1)]"
   ]
  },
  {
   "cell_type": "code",
   "execution_count": 34,
   "id": "6327fd36",
   "metadata": {},
   "outputs": [
    {
     "data": {
      "text/plain": [
       "N_Days           False\n",
       "Status           False\n",
       "Drug             False\n",
       "Age              False\n",
       "Sex              False\n",
       "Ascites          False\n",
       "Hepatomegaly     False\n",
       "Spiders          False\n",
       "Edema            False\n",
       "Bilirubin        False\n",
       "Cholesterol      False\n",
       "Albumin          False\n",
       "Copper           False\n",
       "Alk_Phos         False\n",
       "SGOT             False\n",
       "Tryglicerides    False\n",
       "Platelets        False\n",
       "Prothrombin      False\n",
       "Stage            False\n",
       "dtype: bool"
      ]
     },
     "execution_count": 34,
     "metadata": {},
     "output_type": "execute_result"
    }
   ],
   "source": [
    "non_null=df_mapped.dropna(how=\"any\")\n",
    "non_null.isnull().any()"
   ]
  },
  {
   "cell_type": "code",
   "execution_count": 35,
   "id": "d075f600",
   "metadata": {},
   "outputs": [],
   "source": [
    "non_null=non_null.astype({\n",
    "    'Drug':'int64',\n",
    "    'Status':'int64',\n",
    "    'Stage':'int64',\n",
    "    'Ascites':'int64',\n",
    "    'Hepatomegaly':'int64',\n",
    "    'Spiders':'int64',\n",
    "    'Edema':'int64',\n",
    "    'N_Days':'int64',\n",
    "    'Age':'int64',\n",
    "})"
   ]
  },
  {
   "cell_type": "code",
   "execution_count": 36,
   "id": "1d9832ca",
   "metadata": {},
   "outputs": [],
   "source": [
    "from xgboost import XGBClassifier,XGBRegressor"
   ]
  },
  {
   "cell_type": "code",
   "execution_count": 37,
   "id": "68d5a050",
   "metadata": {},
   "outputs": [],
   "source": [
    "def xgbimputer():\n",
    "    for col in null_col:\n",
    "        X=non_null.drop(columns=[col])\n",
    "        y=non_null[col]\n",
    "        X_test=df_mapped[df_mapped[col].isnull()]\n",
    "        X_test.drop(columns=[col],inplace=True)\n",
    "        testdata=df_test_mapped[df_test_mapped[col].isnull()]\n",
    "        testdata.drop(columns=[col],inplace=True)\n",
    "        if df[col].dtype=='object':\n",
    "            xgb=XGBClassifier(use_label_encoder=False,eval_metric='mlogloss')\n",
    "        else:\n",
    "            xgb=XGBRegressor()\n",
    "        xgb.fit(X,y)\n",
    "        predict=xgb.predict(X_test)\n",
    "        df_mapped.loc[X_test.index,col]=predict\n",
    "        predict=xgb.predict(testdata)\n",
    "        df_test_mapped.loc[testdata.index,col]=predict\n",
    "        print(\"Imputed \",col,\" successfully👍🏻\")"
   ]
  },
  {
   "cell_type": "code",
   "execution_count": 38,
   "id": "01f04b5b",
   "metadata": {},
   "outputs": [],
   "source": [
    "#xgbimputer()"
   ]
  },
  {
   "cell_type": "code",
   "execution_count": 39,
   "id": "b1684df9",
   "metadata": {},
   "outputs": [],
   "source": [
    "from sklearn.impute import KNNImputer\n",
    "from sklearn.preprocessing import MinMaxScaler"
   ]
  },
  {
   "cell_type": "code",
   "execution_count": 47,
   "id": "09a9a5f8",
   "metadata": {},
   "outputs": [],
   "source": [
    "knn_imputer = KNNImputer()\n",
    "df_mapped = pd.DataFrame(knn_imputer.fit_transform(df_mapped.drop(columns=['Stage'])),columns=list(df_mapped.columns[:-1]))\n",
    "df_test_mapped = pd.DataFrame(knn_imputer.transform(df_test_mapped),columns=list(df_test_mapped.columns))"
   ]
  },
  {
   "cell_type": "code",
   "execution_count": 17,
   "id": "c456a1a8",
   "metadata": {
    "scrolled": true
   },
   "outputs": [],
   "source": [
    "df_mapped=df_mapped.astype({\n",
    "    'Drug':'int64',\n",
    "    'Status':'int64',\n",
    "    'Stage':'int64',\n",
    "    'Ascites':'int64',\n",
    "    'Hepatomegaly':'int64',\n",
    "    'Spiders':'int64',\n",
    "    'Edema':'int64',\n",
    "    'N_Days':'int64',\n",
    "    'Age':'int64',\n",
    "})\n",
    "df_test_mapped=df_test_mapped.astype({\n",
    "    'Drug':'int64',\n",
    "    'Status':'int64',\n",
    "    'Ascites':'int64',\n",
    "    'Hepatomegaly':'int64',\n",
    "    'Spiders':'int64',\n",
    "    'Edema':'int64',\n",
    "    'N_Days':'int64',\n",
    "    'Age':'int64',\n",
    "})"
   ]
  },
  {
   "cell_type": "code",
   "execution_count": 48,
   "id": "e08ca4c4",
   "metadata": {},
   "outputs": [],
   "source": [
    "df_remapped=df_mapped.copy()\n",
    "df_remapped['Status']=df_remapped['Status'].map({0:'CL',1:'C',2:'D'})\n",
    "df_remapped['Drug']=df_remapped['Drug'].map({0:'D-penicillamine',1:'Placebo'})\n",
    "df_remapped['Sex']=df_remapped['Sex'].map({0:'F',1:'M'})"
   ]
  },
  {
   "cell_type": "code",
   "execution_count": 49,
   "id": "b1f48b66",
   "metadata": {},
   "outputs": [],
   "source": [
    "df_test_remapped=df_test_mapped.copy()\n",
    "df_test_remapped['Status']=df_test_remapped['Status'].map({0:'CL',1:'C',2:'D'})\n",
    "df_test_remapped['Drug']=df_test_remapped['Drug'].map({0:'D-penicillamine',1:'Placebo'})\n",
    "df_test_remapped['Sex']=df_test_remapped['Sex'].map({0:'F',1:'M'})"
   ]
  },
  {
   "cell_type": "code",
   "execution_count": 51,
   "id": "b062668f",
   "metadata": {},
   "outputs": [],
   "source": [
    "final=pd.get_dummies(data=df_remapped,columns=['Status','Drug','Sex'])\n",
    "test_final=pd.get_dummies(data=df_test_remapped,columns=['Status','Drug','Sex'])\n",
    "final.drop(columns=[\"Drug_Placebo\",\"Sex_M\",\"Status_D\"],inplace=True)\n",
    "test_final.drop(columns=[\"Drug_Placebo\",\"Sex_M\",\"Status_D\"],inplace=True)"
   ]
  },
  {
   "cell_type": "code",
   "execution_count": 52,
   "id": "7f563dae",
   "metadata": {},
   "outputs": [],
   "source": [
    "X=final\n",
    "y=df['Stage']"
   ]
  },
  {
   "cell_type": "code",
   "execution_count": 53,
   "id": "f6152ae6",
   "metadata": {},
   "outputs": [],
   "source": [
    "from sklearn.metrics import classification_report\n",
    "from sklearn.model_selection import GridSearchCV\n",
    "from sklearn.ensemble import RandomForestClassifier"
   ]
  },
  {
   "cell_type": "code",
   "execution_count": 54,
   "id": "dee64818",
   "metadata": {},
   "outputs": [],
   "source": [
    "def hyperparameter_tuning(estimator,param,X,y,X_test):\n",
    "    clf=GridSearchCV(estimator,param_grid=param,return_train_score=True,scoring=\"f1_weighted\",cv=5)\n",
    "    clf.fit(X,y)\n",
    "    return clf    "
   ]
  },
  {
   "cell_type": "code",
   "execution_count": 55,
   "id": "6e06da27",
   "metadata": {},
   "outputs": [],
   "source": [
    "def train_fit_check(clf,X_train_dataset,y_train_dataset):\n",
    "    y_train_pred=clf.predict(X_train_dataset)\n",
    "    print('Classification Report:\\n',classification_report(y_train_pred,y_train_dataset))\n",
    "    print('How well the model fit the training dataset:',clf.score(X_train_dataset,y_train_dataset))"
   ]
  },
  {
   "cell_type": "code",
   "execution_count": 102,
   "id": "bee7c595",
   "metadata": {},
   "outputs": [],
   "source": [
    "#randomforestclassifier\n",
    "#round1\n",
    "param={\n",
    "    \"n_estimators\":[100],\n",
    "    \"max_depth\":[20],\n",
    "    \"min_samples_leaf\":[2],\n",
    "    \"max_features\":[\"sqrt\"]\n",
    "}\n",
    "rfc=hyperparameter_tuning(RandomForestClassifier(),param,X,y,test_final)"
   ]
  },
  {
   "cell_type": "code",
   "execution_count": 56,
   "id": "8307c12c",
   "metadata": {},
   "outputs": [
    {
     "data": {
      "text/plain": [
       "RandomForestClassifier()"
      ]
     },
     "execution_count": 56,
     "metadata": {},
     "output_type": "execute_result"
    }
   ],
   "source": [
    "rfc=RandomForestClassifier()\n",
    "rfc.fit(X,y)"
   ]
  },
  {
   "cell_type": "code",
   "execution_count": 57,
   "id": "9e949a5b",
   "metadata": {},
   "outputs": [
    {
     "name": "stdout",
     "output_type": "stream",
     "text": [
      "Classification Report:\n",
      "               precision    recall  f1-score   support\n",
      "\n",
      "         1.0       1.00      1.00      1.00       465\n",
      "         2.0       1.00      1.00      1.00      1507\n",
      "         3.0       1.00      1.00      1.00      1322\n",
      "         4.0       1.00      1.00      1.00      3506\n",
      "\n",
      "    accuracy                           1.00      6800\n",
      "   macro avg       1.00      1.00      1.00      6800\n",
      "weighted avg       1.00      1.00      1.00      6800\n",
      "\n",
      "How well the model fit the training dataset: 1.0\n"
     ]
    }
   ],
   "source": [
    "train_fit_check(rfc,X,y)"
   ]
  },
  {
   "cell_type": "code",
   "execution_count": 58,
   "id": "a6024da5",
   "metadata": {},
   "outputs": [],
   "source": [
    "predict=pd.DataFrame(rfc.predict(test_final),columns=['Stage'])"
   ]
  },
  {
   "cell_type": "code",
   "execution_count": 119,
   "id": "3b2c39ce",
   "metadata": {},
   "outputs": [
    {
     "data": {
      "text/plain": [
       "4    3506\n",
       "2    1507\n",
       "3    1322\n",
       "1     465\n",
       "Name: Stage, dtype: int64"
      ]
     },
     "execution_count": 119,
     "metadata": {},
     "output_type": "execute_result"
    }
   ],
   "source": [
    "y.value_counts()"
   ]
  },
  {
   "cell_type": "code",
   "execution_count": 115,
   "id": "247ceb54",
   "metadata": {},
   "outputs": [
    {
     "data": {
      "text/plain": [
       "Stage\n",
       "4        3171\n",
       "2          20\n",
       "3           6\n",
       "1           3\n",
       "dtype: int64"
      ]
     },
     "execution_count": 115,
     "metadata": {},
     "output_type": "execute_result"
    }
   ],
   "source": [
    "predict.value_counts()"
   ]
  },
  {
   "cell_type": "code",
   "execution_count": 59,
   "id": "c48c2e42",
   "metadata": {},
   "outputs": [],
   "source": [
    "predict.to_csv('predict.csv',index=False)"
   ]
  },
  {
   "cell_type": "markdown",
   "id": "def815e0",
   "metadata": {},
   "source": [
    "Stage 1 = Healthy Liver <br>\n",
    "Stage 2 = Fatty Liver <br> \n",
    "Stage 3 = Fibrosis Liver <br>\n",
    "Stage 4 = Cirrhosis Liver <br>\n"
   ]
  }
 ],
 "metadata": {
  "kernelspec": {
   "display_name": "Python 3",
   "language": "python",
   "name": "python3"
  },
  "language_info": {
   "codemirror_mode": {
    "name": "ipython",
    "version": 3
   },
   "file_extension": ".py",
   "mimetype": "text/x-python",
   "name": "python",
   "nbconvert_exporter": "python",
   "pygments_lexer": "ipython3",
   "version": "3.8.8"
  }
 },
 "nbformat": 4,
 "nbformat_minor": 5
}
