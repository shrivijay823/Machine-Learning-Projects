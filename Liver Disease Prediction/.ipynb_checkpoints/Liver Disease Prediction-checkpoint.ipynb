{
 "cells": [
  {
   "cell_type": "markdown",
   "id": "e813c9e1",
   "metadata": {},
   "source": [
    "## Liver Disease Prediction\n",
    "Create predictive models to predict the stage of liver Cirrhosis using 18 clinical features. Cirrhosis damages the liver from a variety of causes leading to scarring and liver failure.\n",
    "\n",
    "Hepatitis and chronic alcohol abuse are frequent causes of the disease. Liver damage caused by cirrhosis can't be undone, but further damage can be limited. Treatments focus on the underlying cause. In advanced cases, a liver transplant may be required. Predicting the stage of cirrhosis and beginning the treatment before it's too late can prevent the fatal consequences of the disease."
   ]
  },
  {
   "cell_type": "code",
   "execution_count": 1,
   "id": "34170bc0",
   "metadata": {},
   "outputs": [],
   "source": [
    "import pandas as pd \n",
    "import numpy as np"
   ]
  },
  {
   "cell_type": "code",
   "execution_count": 7,
   "id": "e7e40b8f",
   "metadata": {},
   "outputs": [],
   "source": [
    "df=pd.read_csv('train_dataset.csv')"
   ]
  },
  {
   "cell_type": "code",
   "execution_count": 3,
   "id": "22eed2d2",
   "metadata": {
    "scrolled": true
   },
   "outputs": [
    {
     "data": {
      "text/html": [
       "<div>\n",
       "<style scoped>\n",
       "    .dataframe tbody tr th:only-of-type {\n",
       "        vertical-align: middle;\n",
       "    }\n",
       "\n",
       "    .dataframe tbody tr th {\n",
       "        vertical-align: top;\n",
       "    }\n",
       "\n",
       "    .dataframe thead th {\n",
       "        text-align: right;\n",
       "    }\n",
       "</style>\n",
       "<table border=\"1\" class=\"dataframe\">\n",
       "  <thead>\n",
       "    <tr style=\"text-align: right;\">\n",
       "      <th></th>\n",
       "      <th>ID</th>\n",
       "      <th>N_Days</th>\n",
       "      <th>Status</th>\n",
       "      <th>Drug</th>\n",
       "      <th>Age</th>\n",
       "      <th>Sex</th>\n",
       "      <th>Ascites</th>\n",
       "      <th>Hepatomegaly</th>\n",
       "      <th>Spiders</th>\n",
       "      <th>Edema</th>\n",
       "      <th>Bilirubin</th>\n",
       "      <th>Cholesterol</th>\n",
       "      <th>Albumin</th>\n",
       "      <th>Copper</th>\n",
       "      <th>Alk_Phos</th>\n",
       "      <th>SGOT</th>\n",
       "      <th>Tryglicerides</th>\n",
       "      <th>Platelets</th>\n",
       "      <th>Prothrombin</th>\n",
       "      <th>Stage</th>\n",
       "    </tr>\n",
       "  </thead>\n",
       "  <tbody>\n",
       "    <tr>\n",
       "      <th>0</th>\n",
       "      <td>7135</td>\n",
       "      <td>1654</td>\n",
       "      <td>CL</td>\n",
       "      <td>D-penicillamine</td>\n",
       "      <td>19581</td>\n",
       "      <td>F</td>\n",
       "      <td>N</td>\n",
       "      <td>N</td>\n",
       "      <td>Y</td>\n",
       "      <td>N</td>\n",
       "      <td>0.3</td>\n",
       "      <td>279.0</td>\n",
       "      <td>2.96</td>\n",
       "      <td>84.0</td>\n",
       "      <td>1500.8</td>\n",
       "      <td>99.43</td>\n",
       "      <td>109.0</td>\n",
       "      <td>293.0</td>\n",
       "      <td>10.2</td>\n",
       "      <td>4.0</td>\n",
       "    </tr>\n",
       "    <tr>\n",
       "      <th>1</th>\n",
       "      <td>7326</td>\n",
       "      <td>41</td>\n",
       "      <td>C</td>\n",
       "      <td>D-penicillamine</td>\n",
       "      <td>22880</td>\n",
       "      <td>F</td>\n",
       "      <td>NaN</td>\n",
       "      <td>N</td>\n",
       "      <td>NaN</td>\n",
       "      <td>N</td>\n",
       "      <td>0.3</td>\n",
       "      <td>NaN</td>\n",
       "      <td>2.96</td>\n",
       "      <td>NaN</td>\n",
       "      <td>1835.4</td>\n",
       "      <td>26.35</td>\n",
       "      <td>131.0</td>\n",
       "      <td>308.0</td>\n",
       "      <td>10.8</td>\n",
       "      <td>1.0</td>\n",
       "    </tr>\n",
       "    <tr>\n",
       "      <th>2</th>\n",
       "      <td>7254</td>\n",
       "      <td>297</td>\n",
       "      <td>D</td>\n",
       "      <td>NaN</td>\n",
       "      <td>27957</td>\n",
       "      <td>F</td>\n",
       "      <td>N</td>\n",
       "      <td>N</td>\n",
       "      <td>NaN</td>\n",
       "      <td>N</td>\n",
       "      <td>0.3</td>\n",
       "      <td>328.0</td>\n",
       "      <td>2.64</td>\n",
       "      <td>4.0</td>\n",
       "      <td>NaN</td>\n",
       "      <td>NaN</td>\n",
       "      <td>116.0</td>\n",
       "      <td>194.0</td>\n",
       "      <td>10.3</td>\n",
       "      <td>3.0</td>\n",
       "    </tr>\n",
       "    <tr>\n",
       "      <th>3</th>\n",
       "      <td>3135</td>\n",
       "      <td>1872</td>\n",
       "      <td>C</td>\n",
       "      <td>D-penicillamine</td>\n",
       "      <td>21111</td>\n",
       "      <td>F</td>\n",
       "      <td>NaN</td>\n",
       "      <td>Y</td>\n",
       "      <td>Y</td>\n",
       "      <td>N</td>\n",
       "      <td>0.3</td>\n",
       "      <td>302.0</td>\n",
       "      <td>2.02</td>\n",
       "      <td>49.0</td>\n",
       "      <td>NaN</td>\n",
       "      <td>26.35</td>\n",
       "      <td>NaN</td>\n",
       "      <td>NaN</td>\n",
       "      <td>10.5</td>\n",
       "      <td>4.0</td>\n",
       "    </tr>\n",
       "    <tr>\n",
       "      <th>4</th>\n",
       "      <td>2483</td>\n",
       "      <td>939</td>\n",
       "      <td>CL</td>\n",
       "      <td>D-penicillamine</td>\n",
       "      <td>18061</td>\n",
       "      <td>F</td>\n",
       "      <td>NaN</td>\n",
       "      <td>NaN</td>\n",
       "      <td>NaN</td>\n",
       "      <td>N</td>\n",
       "      <td>0.5</td>\n",
       "      <td>344.0</td>\n",
       "      <td>3.11</td>\n",
       "      <td>91.0</td>\n",
       "      <td>NaN</td>\n",
       "      <td>104.56</td>\n",
       "      <td>NaN</td>\n",
       "      <td>306.0</td>\n",
       "      <td>11.4</td>\n",
       "      <td>2.0</td>\n",
       "    </tr>\n",
       "  </tbody>\n",
       "</table>\n",
       "</div>"
      ],
      "text/plain": [
       "     ID  N_Days Status             Drug    Age Sex Ascites Hepatomegaly  \\\n",
       "0  7135    1654     CL  D-penicillamine  19581   F       N            N   \n",
       "1  7326      41      C  D-penicillamine  22880   F     NaN            N   \n",
       "2  7254     297      D              NaN  27957   F       N            N   \n",
       "3  3135    1872      C  D-penicillamine  21111   F     NaN            Y   \n",
       "4  2483     939     CL  D-penicillamine  18061   F     NaN          NaN   \n",
       "\n",
       "  Spiders Edema  Bilirubin  Cholesterol  Albumin  Copper  Alk_Phos    SGOT  \\\n",
       "0       Y     N        0.3        279.0     2.96    84.0    1500.8   99.43   \n",
       "1     NaN     N        0.3          NaN     2.96     NaN    1835.4   26.35   \n",
       "2     NaN     N        0.3        328.0     2.64     4.0       NaN     NaN   \n",
       "3       Y     N        0.3        302.0     2.02    49.0       NaN   26.35   \n",
       "4     NaN     N        0.5        344.0     3.11    91.0       NaN  104.56   \n",
       "\n",
       "   Tryglicerides  Platelets  Prothrombin  Stage  \n",
       "0          109.0      293.0         10.2    4.0  \n",
       "1          131.0      308.0         10.8    1.0  \n",
       "2          116.0      194.0         10.3    3.0  \n",
       "3            NaN        NaN         10.5    4.0  \n",
       "4            NaN      306.0         11.4    2.0  "
      ]
     },
     "execution_count": 3,
     "metadata": {},
     "output_type": "execute_result"
    }
   ],
   "source": [
    "df.head(5)"
   ]
  },
  {
   "cell_type": "code",
   "execution_count": 8,
   "id": "044b5aa0",
   "metadata": {},
   "outputs": [],
   "source": [
    "df.drop(columns=['ID','N_Days'],inplace=True)"
   ]
  },
  {
   "cell_type": "markdown",
   "id": "893a79d0",
   "metadata": {},
   "source": [
    "### Feature Analysis"
   ]
  },
  {
   "cell_type": "code",
   "execution_count": 16,
   "id": "3e2e2ce5",
   "metadata": {},
   "outputs": [],
   "source": [
    "import matplotlib.pyplot as plt\n",
    "import seaborn as sns\n",
    "%matplotlib inline"
   ]
  },
  {
   "cell_type": "code",
   "execution_count": 24,
   "id": "8f9f936e",
   "metadata": {},
   "outputs": [
    {
     "data": {
      "image/png": "[encoded data removed]",
      "text/plain": [
       "<Figure size 432x288 with 1 Axes>"
      ]
     },
     "metadata": {
      "needs_background": "light"
     },
     "output_type": "display_data"
    }
   ],
   "source": [
    "bp=sns.boxplot(y='Cholesterol',data=df,hue='Sex')"
   ]
  },
  {
   "cell_type": "code",
   "execution_count": 31,
   "id": "416ae926",
   "metadata": {},
   "outputs": [
    {
     "data": {
      "text/plain": [
       "<AxesSubplot:xlabel='Stage', ylabel='count'>"
      ]
     },
     "execution_count": 31,
     "metadata": {},
     "output_type": "execute_result"
    },
    {
     "data": {
      "image/png": "[encoded data removed]",
      "text/plain": [
       "<Figure size 432x288 with 1 Axes>"
      ]
     },
     "metadata": {
      "needs_background": "light"
     },
     "output_type": "display_data"
    }
   ],
   "source": [
    "sns.countplot(x='Stage',data=df,hue='Sex')"
   ]
  },
  {
   "cell_type": "markdown",
   "id": "0699c72b",
   "metadata": {},
   "source": [
    "<h6>we can see that there are more number females in our dataset</h6>\n",
    "from which we can say that females are mostly affted by cirrhosis"
   ]
  },
  {
   "cell_type": "code",
   "execution_count": 34,
   "id": "40ddd3c8",
   "metadata": {},
   "outputs": [],
   "source": [
    "df['Age']=np.round(df['Age']/365)"
   ]
  },
  {
   "cell_type": "code",
   "execution_count": 36,
   "id": "9f6ae5ce",
   "metadata": {},
   "outputs": [],
   "source": [
    "df['Age']=df['Age'].astype('int')"
   ]
  },
  {
   "cell_type": "code",
   "execution_count": 40,
   "id": "2bad046d",
   "metadata": {},
   "outputs": [
    {
     "data": {
      "text/plain": [
       "<AxesSubplot:xlabel='Stage', ylabel='Age'>"
      ]
     },
     "execution_count": 40,
     "metadata": {},
     "output_type": "execute_result"
    },
    {
     "data": {
      "image/png": "[encoded data removed]",
      "text/plain": [
       "<Figure size 432x288 with 1 Axes>"
      ]
     },
     "metadata": {
      "needs_background": "light"
     },
     "output_type": "display_data"
    }
   ],
   "source": [
    "sns.violinplot(y='Age',x='Stage',data=df,hue='Sex',split=True)"
   ]
  },
  {
   "cell_type": "markdown",
   "id": "1839cf55",
   "metadata": {},
   "source": [
    "Cirrhosis primarily affects adults between the ages of 55 and 75."
   ]
  },
  {
   "cell_type": "code",
   "execution_count": 46,
   "id": "bcb26017",
   "metadata": {
    "scrolled": false
   },
   "outputs": [
    {
     "data": {
      "text/plain": [
       "<AxesSubplot:xlabel='Stage', ylabel='Cholesterol'>"
      ]
     },
     "execution_count": 46,
     "metadata": {},
     "output_type": "execute_result"
    },
    {
     "data": {
      "image/png": "[encoded data removed]",
      "text/plain": [
       "<Figure size 432x288 with 1 Axes>"
      ]
     },
     "metadata": {},
     "output_type": "display_data"
    }
   ],
   "source": [
    "sns.set_style(\"whitegrid\")\n",
    "sns.boxplot(y='Cholesterol',x='Stage',data=df)"
   ]
  }
 ],
 "metadata": {
  "kernelspec": {
   "display_name": "Python 3",
   "language": "python",
   "name": "python3"
  },
  "language_info": {
   "codemirror_mode": {
    "name": "ipython",
    "version": 3
   },
   "file_extension": ".py",
   "mimetype": "text/x-python",
   "name": "python",
   "nbconvert_exporter": "python",
   "pygments_lexer": "ipython3",
   "version": "3.8.8"
  }
 },
 "nbformat": 4,
 "nbformat_minor": 5
}
